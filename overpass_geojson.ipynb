{
 "cells": [
  {
   "cell_type": "code",
   "execution_count": null,
   "metadata": {
    "ExecuteTime": {
     "end_time": "2019-01-26T12:47:24.320264Z",
     "start_time": "2019-01-26T12:47:23.723215Z"
    }
   },
   "outputs": [],
   "source": [
    "import requests\n",
    "import json\n",
    "import geopandas as gpd\n",
    "import geojson"
   ]
  },
  {
   "cell_type": "code",
   "execution_count": null,
   "metadata": {
    "ExecuteTime": {
     "end_time": "2019-01-26T12:51:20.436164Z",
     "start_time": "2019-01-26T12:51:20.361422Z"
    },
    "collapsed": true
   },
   "outputs": [],
   "source": [
    "def geojson_nodes(overpass_json):\n",
    "    \n",
    "    features = []\n",
    "    geometry = None\n",
    "    \n",
    "    for elem in overpass_json['elements']:\n",
    "        \n",
    "        elem_type = elem.get(\"type\")\n",
    "        \n",
    "        if elem_type and elem_type == \"node\":\n",
    "            \n",
    "            geometry = geojson.Point((elem.get(\"lon\"), elem.get(\"lat\")))\n",
    "            \n",
    "            feature = geojson.Feature(id=elem['id'], geometry=geometry, properties=elem.get(\"tags\"))\n",
    "            features.append(feature)\n",
    "            \n",
    "    return geojson.FeatureCollection(features)\n",
    "\n",
    "\n",
    "def geojson_ways(overpass_json):\n",
    "\n",
    "    # first construct a node df for lookup of coordinates\n",
    "    t = geojson_nodes(overpass_json)\n",
    "    all_nodes = gpd.GeoDataFrame(t['features'])\n",
    "\n",
    "    features = []\n",
    "    geometry = None\n",
    "    \n",
    "    for elem in overpass_json['elements']:\n",
    "        \n",
    "        elem_type = elem.get(\"type\")\n",
    "\n",
    "        if elem_type and elem_type == \"way\":\n",
    "            \n",
    "            coords = []\n",
    "            \n",
    "            for node_id in elem['nodes']:\n",
    "                \n",
    "                # get the coordinates of the node from all_nodes df\n",
    "                coords.append(all_nodes[all_nodes['id'] == node_id]['geometry'].iloc[0]['coordinates'])\n",
    "                \n",
    "            geometry = geojson.LineString(coords)\n",
    "            \n",
    "            feature = geojson.Feature(id=elem['id'], geometry=geometry, properties=elem.get(\"tags\"))\n",
    "            features.append(feature)\n",
    "\n",
    "    return geojson.FeatureCollection(features)\n"
   ]
  },
  {
   "cell_type": "code",
   "execution_count": null,
   "metadata": {
    "ExecuteTime": {
     "end_time": "2019-01-26T12:47:27.473903Z",
     "start_time": "2019-01-26T12:47:27.454178Z"
    },
    "collapsed": true
   },
   "outputs": [],
   "source": [
    "overpass_url = \"http://overpass-api.de/api/interpreter\"\n",
    "\n",
    "lat_max,lon_min,lat_min,lon_max = 47.617581, 7.606412, 47.586086, 7.668244\n",
    "overpass_query = '''\n",
    "[out:json][timeout:25];\n",
    "(\n",
    "way[highway=motorway]({lat_min}, {lon_min}, {lat_max}, {lon_max});\n",
    "way[highway= trunk]({lat_min}, {lon_min}, {lat_max}, {lon_max});\n",
    "way[highway=primary]({lat_min}, {lon_min}, {lat_max}, {lon_max});\n",
    "way[highway=secondary]({lat_min}, {lon_min}, {lat_max}, {lon_max});\n",
    "way[highway=tertiary]({lat_min}, {lon_min}, {lat_max}, {lon_max});\n",
    "way[highway=unclassified]({lat_min}, {lon_min}, {lat_max}, {lon_max});\n",
    "way[highway=residential]({lat_min}, {lon_min}, {lat_max}, {lon_max});\n",
    "way[highway=service]({lat_min}, {lon_min}, {lat_max}, {lon_max});\n",
    "way[highway=motorway_link]({lat_min}, {lon_min}, {lat_max}, {lon_max});\n",
    "way[highway=trunk_link]({lat_min}, {lon_min}, {lat_max}, {lon_max});\n",
    "way[highway=primary_link]({lat_min}, {lon_min}, {lat_max}, {lon_max});\n",
    "way[highway=secondary_link]({lat_min}, {lon_min}, {lat_max}, {lon_max});\n",
    "way[highway=tertiary_link]({lat_min}, {lon_min}, {lat_max}, {lon_max});\n",
    "way[highway=unclassified_link]({lat_min}, {lon_min}, {lat_max}, {lon_max});\n",
    "way[highway=residential_link]({lat_min}, {lon_min}, {lat_max}, {lon_max});\n",
    "way[highway=service_link]({lat_min}, {lon_min}, {lat_max}, {lon_max});\n",
    "way[highway=living_street]({lat_min}, {lon_min}, {lat_max}, {lon_max});\n",
    "way[highway=track]({lat_min}, {lon_min}, {lat_max}, {lon_max});\n",
    "way[highway=escape]({lat_min}, {lon_min}, {lat_max}, {lon_max});\n",
    "way[highway=road]({lat_min}, {lon_min}, {lat_max}, {lon_max});\n",
    ");\n",
    "out body;\n",
    ">;\n",
    "out skel qt;\n",
    "'''.format(lat_min = lat_min, lon_min = lon_min, lat_max = lat_max, lon_max = lon_max)"
   ]
  },
  {
   "cell_type": "code",
   "execution_count": null,
   "metadata": {
    "collapsed": true
   },
   "outputs": [],
   "source": [
    "response = requests.get(overpass_url, params={'data': overpass_query})\n",
    "response = json.loads(response.text)"
   ]
  },
  {
   "cell_type": "code",
   "execution_count": null,
   "metadata": {
    "ExecuteTime": {
     "end_time": "2019-01-26T12:51:35.123777Z",
     "start_time": "2019-01-26T12:51:27.474093Z"
    }
   },
   "outputs": [],
   "source": [
    "output = geojson_ways(response)"
   ]
  },
  {
   "cell_type": "code",
   "execution_count": null,
   "metadata": {
    "ExecuteTime": {
     "end_time": "2019-01-26T12:51:41.782957Z",
     "start_time": "2019-01-26T12:51:41.601846Z"
    },
    "collapsed": true
   },
   "outputs": [],
   "source": [
    "with open(\"ways.geosjon\", 'w') as outfile:\n",
    "     geojson.dump(output, outfile)"
   ]
  }
 ],
 "metadata": {
  "kernelspec": {
   "display_name": "Python 3",
   "language": "python",
   "name": "python3"
  },
  "language_info": {
   "codemirror_mode": {
    "name": "ipython",
    "version": 3
   },
   "file_extension": ".py",
   "mimetype": "text/x-python",
   "name": "python",
   "nbconvert_exporter": "python",
   "pygments_lexer": "ipython3",
   "version": "3.6.8"
  },
  "varInspector": {
   "cols": {
    "lenName": 16,
    "lenType": 16,
    "lenVar": 40
   },
   "kernels_config": {
    "python": {
     "delete_cmd_postfix": "",
     "delete_cmd_prefix": "del ",
     "library": "var_list.py",
     "varRefreshCmd": "print(var_dic_list())"
    },
    "r": {
     "delete_cmd_postfix": ") ",
     "delete_cmd_prefix": "rm(",
     "library": "var_list.r",
     "varRefreshCmd": "cat(var_dic_list()) "
    }
   },
   "types_to_exclude": [
    "module",
    "function",
    "builtin_function_or_method",
    "instance",
    "_Feature"
   ],
   "window_display": false
  }
 },
 "nbformat": 4,
 "nbformat_minor": 2
}
